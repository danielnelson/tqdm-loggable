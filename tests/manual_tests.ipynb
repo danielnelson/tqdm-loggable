{
 "cells": [
  {
   "cell_type": "code",
   "execution_count": null,
   "id": "b67a08b9",
   "metadata": {},
   "outputs": [],
   "source": [
    "import datetime\n",
    "import time\n",
    "import os\n",
    "import sys\n",
    "\n",
    "from tqdm_loggable.auto import tqdm\n",
    "from tqdm_loggable.utils import is_interactive_session, is_notebook"
   ]
  },
  {
   "cell_type": "code",
   "execution_count": null,
   "id": "067e39c1",
   "metadata": {},
   "outputs": [],
   "source": [
    "print(\"sys.stdout.isatty():\", sys.stdout.isatty())\n",
    "print(\"TERM:\", os.environ.get(\"TERM\", \"-\"))\n",
    "print(\"is_notebook():\", is_notebook())\n",
    "print(\"is_interactive_session():\", is_interactive_session())"
   ]
  },
  {
   "cell_type": "code",
   "execution_count": null,
   "id": "39293c1d-1e0f-486c-83a4-9e3d730de380",
   "metadata": {},
   "outputs": [],
   "source": [
    "import datetime\n",
    "import time\n",
    "from tqdm_loggable.auto import tqdm\n",
    "\n",
    "\n",
    "with tqdm(total=60_000, desc=\"Sample progress\", unit_scale=True) as progress_bar:\n",
    "    for i in range(60):\n",
    "        progress_bar.update(1000)\n",
    "\n",
    "        # Test postfix output\n",
    "        progress_bar.set_postfix({\"Current time\": datetime.datetime.utcnow()})\n",
    "\n",
    "        time.sleep(0.1)\n"
   ]
  }
 ],
 "metadata": {
  "kernelspec": {
   "display_name": "Python 3.10.7 ('tqdm-loggable-R1xcW9Nl-py3.10')",
   "language": "python",
   "name": "python3"
  },
  "language_info": {
   "codemirror_mode": {
    "name": "ipython",
    "version": 3
   },
   "file_extension": ".py",
   "mimetype": "text/x-python",
   "name": "python",
   "nbconvert_exporter": "python",
   "pygments_lexer": "ipython3",
   "version": "3.10.7"
  },
  "vscode": {
   "interpreter": {
    "hash": "0f1d338577d15259fb6698062163f3f54ca63a280312ac6f377d21d25140806a"
   }
  }
 },
 "nbformat": 4,
 "nbformat_minor": 5
}
